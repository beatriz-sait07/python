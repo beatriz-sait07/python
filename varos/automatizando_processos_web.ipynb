{
 "cells": [
  {
   "cell_type": "code",
   "execution_count": 17,
   "metadata": {},
   "outputs": [],
   "source": [
    "# web scraping -> extrair informacoe de sites automaticamente\n"
   ]
  },
  {
   "cell_type": "code",
   "execution_count": 18,
   "metadata": {},
   "outputs": [],
   "source": [
    "from selenium import webdriver\n",
    "from selenium.webdriver.chrome.service import Service\n",
    "from webdriver_manager.chrome import ChromeDriverManager\n",
    "import time\n",
    "import pandas as pd"
   ]
  },
  {
   "cell_type": "code",
   "execution_count": 19,
   "metadata": {},
   "outputs": [
    {
     "name": "stderr",
     "output_type": "stream",
     "text": [
      "/tmp/ipykernel_24311/1638131976.py:1: DeprecationWarning: executable_path has been deprecated, please pass in a Service object\n",
      "  drive = webdriver.Chrome(ChromeDriverManager().install()) # instalar o driver do chrome\n"
     ]
    }
   ],
   "source": [
    "drive = webdriver.Chrome(ChromeDriverManager().install()) # instalar o driver do chrome\n",
    "\n",
    "drive.get('https://www.etf.com/etfanalytics/etf-finder') #abrindo o site que iremos puxar os dados"
   ]
  },
  {
   "cell_type": "code",
   "execution_count": 21,
   "metadata": {},
   "outputs": [
    {
     "data": {
      "text/plain": [
       "' \\npode acontecer de dar erro aqui, pois o botao pode estar em outro lugar, com isto basta usar?\\ndriver.execute_script(\"arguments[0].click();\", botao_100)\\n'"
      ]
     },
     "execution_count": 21,
     "metadata": {},
     "output_type": "execute_result"
    }
   ],
   "source": [
    "time.sleep(5)\n",
    "botao_100 = drive.find_element(\"xpath\", '/html/body/div[2]/div/div/main/div[1]/section/div[2]/div[3]/div/article/div/div[2]/div/div/div/div/div/div[3]/div[2]/div/div[1]/div/div[2]/div[1]/div/div[5]/button/span') #botao para mostrar 100 resultados\n",
    "\n",
    "botao_100.click() #clicando no botao 'pagina 100 do arquivo'\n",
    "\n",
    "''' \n",
    "pode acontecer de dar erro aqui, pois o botao pode estar em outro lugar, com isto basta usar?\n",
    "driver.execute_script(\"arguments[0].click();\", botao_100)\n",
    "'''\n",
    "\n",
    "#49:31\n"
   ]
  }
 ],
 "metadata": {
  "kernelspec": {
   "display_name": "venv",
   "language": "python",
   "name": "python3"
  },
  "language_info": {
   "codemirror_mode": {
    "name": "ipython",
    "version": 3
   },
   "file_extension": ".py",
   "mimetype": "text/x-python",
   "name": "python",
   "nbconvert_exporter": "python",
   "pygments_lexer": "ipython3",
   "version": "3.9.13"
  },
  "orig_nbformat": 4
 },
 "nbformat": 4,
 "nbformat_minor": 2
}
