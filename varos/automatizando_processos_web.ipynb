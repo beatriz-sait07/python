{
 "cells": [
  {
   "cell_type": "code",
   "execution_count": 44,
   "metadata": {},
   "outputs": [],
   "source": [
    "# web scraping -> extrair informacoe de sites automaticamente\n"
   ]
  },
  {
   "cell_type": "code",
   "execution_count": 45,
   "metadata": {},
   "outputs": [],
   "source": [
    "from selenium import webdriver\n",
    "from selenium.webdriver.chrome.service import Service\n",
    "from webdriver_manager.chrome import ChromeDriverManager\n",
    "import time\n",
    "import pandas as pd"
   ]
  },
  {
   "cell_type": "code",
   "execution_count": 46,
   "metadata": {},
   "outputs": [
    {
     "name": "stderr",
     "output_type": "stream",
     "text": [
      "/tmp/ipykernel_43077/1638131976.py:1: DeprecationWarning: executable_path has been deprecated, please pass in a Service object\n",
      "  drive = webdriver.Chrome(ChromeDriverManager().install()) # instalar o driver do chrome\n"
     ]
    }
   ],
   "source": [
    "drive = webdriver.Chrome(ChromeDriverManager().install()) # instalar o driver do chrome\n",
    "\n",
    "drive.get('https://www.etf.com/etfanalytics/etf-finder') #abrindo o site que iremos puxar os dados"
   ]
  },
  {
   "cell_type": "code",
   "execution_count": 47,
   "metadata": {},
   "outputs": [
    {
     "data": {
      "text/plain": [
       "'pode acontecer de o site nao carregar os 100 resultados, pois o botao pode estar em outro lugar, com isso, o codigo nao vai funcionar\\ndriver.execute_script(\"arguments[0].click();\", botao_100) # esse codigo faz com que o botao seja clicado mesmo que esteja em outro lugar\\n'"
      ]
     },
     "execution_count": 47,
     "metadata": {},
     "output_type": "execute_result"
    }
   ],
   "source": [
    "time.sleep(7)\n",
    "botao_100 = drive.find_element(\"xpath\", '/html/body/div[2]/div/div/main/div[1]/section/div[2]/div[3]/div/article/div/div[2]/div/div/div/div/div/div[3]/div[2]/div/div[1]/div/div[2]/div[1]/div/div[5]/button/span') \n",
    "\n",
    "botao_100.click() # clicar no botao para mostrar 100 resultados por pagina\n",
    "\n",
    "'''pode acontecer de o site nao carregar os 100 resultados, pois o botao pode estar em outro lugar, com isso, o codigo nao vai funcionar\n",
    "driver.execute_script(\"arguments[0].click();\", botao_100) # esse codigo faz com que o botao seja clicado mesmo que esteja em outro lugar\n",
    "'''"
   ]
  },
  {
   "cell_type": "code",
   "execution_count": 48,
   "metadata": {},
   "outputs": [
    {
     "data": {
      "text/plain": [
       "32"
      ]
     },
     "execution_count": 48,
     "metadata": {},
     "output_type": "execute_result"
    }
   ],
   "source": [
    "num_pag = drive.find_element(\"xpath\", '/html/body/div[2]/div/div/main/div[1]/section/div[2]/div[3]/div/article/div/div[2]/div/div/div/div/div/div[3]/div[2]/div/div[1]/div/div[2]/div[2]/ul/li[8]/a')\n",
    "num_pag = int(num_pag.text) # mostra o numero de paginas\n",
    "num_pag"
   ]
  },
  {
   "cell_type": "code",
   "execution_count": 49,
   "metadata": {},
   "outputs": [],
   "source": [
    "lista_tab_pag = [] # lista que vai receber as tabelas de cada pagina\n",
    "elemento = drive.find_element(\"xpath\", '//*[@id=\"screener-main\"]/div[2]/div')"
   ]
  },
  {
   "cell_type": "code",
   "execution_count": 51,
   "metadata": {},
   "outputs": [
    {
     "data": {
      "text/html": [
       "<div>\n",
       "<style scoped>\n",
       "    .dataframe tbody tr th:only-of-type {\n",
       "        vertical-align: middle;\n",
       "    }\n",
       "\n",
       "    .dataframe tbody tr th {\n",
       "        vertical-align: top;\n",
       "    }\n",
       "\n",
       "    .dataframe thead th {\n",
       "        text-align: right;\n",
       "    }\n",
       "</style>\n",
       "<table border=\"1\" class=\"dataframe\">\n",
       "  <thead>\n",
       "    <tr style=\"text-align: right;\">\n",
       "      <th></th>\n",
       "      <th>Ticker</th>\n",
       "      <th>Fund Name</th>\n",
       "      <th>Segment</th>\n",
       "      <th>1 YR Return</th>\n",
       "      <th>Expense Ratio</th>\n",
       "      <th>AUM</th>\n",
       "    </tr>\n",
       "  </thead>\n",
       "  <tbody>\n",
       "    <tr>\n",
       "      <th>0</th>\n",
       "      <td>SPY</td>\n",
       "      <td>SPDR S&amp;P 500 ETF Trust</td>\n",
       "      <td>Equity: U.S. - Large Cap</td>\n",
       "      <td>-5.80%</td>\n",
       "      <td>0.09%</td>\n",
       "      <td>$378.31B</td>\n",
       "    </tr>\n",
       "    <tr>\n",
       "      <th>1</th>\n",
       "      <td>IVV</td>\n",
       "      <td>iShares Core S&amp;P 500 ETF</td>\n",
       "      <td>Equity: U.S. - Large Cap</td>\n",
       "      <td>-5.80%</td>\n",
       "      <td>0.03%</td>\n",
       "      <td>$310.21B</td>\n",
       "    </tr>\n",
       "    <tr>\n",
       "      <th>2</th>\n",
       "      <td>VOO</td>\n",
       "      <td>Vanguard S&amp;P 500 ETF</td>\n",
       "      <td>Equity: U.S. - Large Cap</td>\n",
       "      <td>-5.81%</td>\n",
       "      <td>0.03%</td>\n",
       "      <td>$290.95B</td>\n",
       "    </tr>\n",
       "    <tr>\n",
       "      <th>3</th>\n",
       "      <td>VTI</td>\n",
       "      <td>Vanguard Total Stock Market ETF</td>\n",
       "      <td>Equity: U.S. - Total Market</td>\n",
       "      <td>-6.93%</td>\n",
       "      <td>0.03%</td>\n",
       "      <td>$285.27B</td>\n",
       "    </tr>\n",
       "    <tr>\n",
       "      <th>4</th>\n",
       "      <td>QQQ</td>\n",
       "      <td>Invesco QQQ Trust</td>\n",
       "      <td>Equity: U.S. - Large Cap</td>\n",
       "      <td>-6.60%</td>\n",
       "      <td>0.20%</td>\n",
       "      <td>$170.49B</td>\n",
       "    </tr>\n",
       "    <tr>\n",
       "      <th>...</th>\n",
       "      <td>...</td>\n",
       "      <td>...</td>\n",
       "      <td>...</td>\n",
       "      <td>...</td>\n",
       "      <td>...</td>\n",
       "      <td>...</td>\n",
       "    </tr>\n",
       "    <tr>\n",
       "      <th>30</th>\n",
       "      <td>BBSB</td>\n",
       "      <td>JPMorgan BetaBuilders U.S. Treasury Bond 1-3 Y...</td>\n",
       "      <td>Fixed Income: U.S. - Government, Treasury Inve...</td>\n",
       "      <td>--</td>\n",
       "      <td>--</td>\n",
       "      <td>--</td>\n",
       "    </tr>\n",
       "    <tr>\n",
       "      <th>31</th>\n",
       "      <td>BBLB</td>\n",
       "      <td>JPMorgan BetaBuilders U.S. Treasury Bond 20+ Y...</td>\n",
       "      <td>Fixed Income: U.S. - Government, Treasury Inve...</td>\n",
       "      <td>--</td>\n",
       "      <td>--</td>\n",
       "      <td>--</td>\n",
       "    </tr>\n",
       "    <tr>\n",
       "      <th>32</th>\n",
       "      <td>BBIB</td>\n",
       "      <td>JPMorgan BetaBuilders U.S. Treasury Bond 3-10 ...</td>\n",
       "      <td>Fixed Income: U.S. - Government, Treasury Inve...</td>\n",
       "      <td>--</td>\n",
       "      <td>--</td>\n",
       "      <td>--</td>\n",
       "    </tr>\n",
       "    <tr>\n",
       "      <th>33</th>\n",
       "      <td>SROI</td>\n",
       "      <td>Calamos Antetokounmpo Global Sustainable Equit...</td>\n",
       "      <td>Equity: Global - Total Market</td>\n",
       "      <td>--</td>\n",
       "      <td>0.95%</td>\n",
       "      <td>--</td>\n",
       "    </tr>\n",
       "    <tr>\n",
       "      <th>34</th>\n",
       "      <td>FDAT</td>\n",
       "      <td>Tactical Advantage ETF</td>\n",
       "      <td>Asset Allocation: U.S. Target Outcome</td>\n",
       "      <td>--</td>\n",
       "      <td>0.74%</td>\n",
       "      <td>--</td>\n",
       "    </tr>\n",
       "  </tbody>\n",
       "</table>\n",
       "<p>2370 rows × 6 columns</p>\n",
       "</div>"
      ],
      "text/plain": [
       "   Ticker                                          Fund Name  \\\n",
       "0     SPY                             SPDR S&P 500 ETF Trust   \n",
       "1     IVV                           iShares Core S&P 500 ETF   \n",
       "2     VOO                               Vanguard S&P 500 ETF   \n",
       "3     VTI                    Vanguard Total Stock Market ETF   \n",
       "4     QQQ                                  Invesco QQQ Trust   \n",
       "..    ...                                                ...   \n",
       "30   BBSB  JPMorgan BetaBuilders U.S. Treasury Bond 1-3 Y...   \n",
       "31   BBLB  JPMorgan BetaBuilders U.S. Treasury Bond 20+ Y...   \n",
       "32   BBIB  JPMorgan BetaBuilders U.S. Treasury Bond 3-10 ...   \n",
       "33   SROI  Calamos Antetokounmpo Global Sustainable Equit...   \n",
       "34   FDAT                             Tactical Advantage ETF   \n",
       "\n",
       "                                              Segment 1 YR Return  \\\n",
       "0                            Equity: U.S. - Large Cap      -5.80%   \n",
       "1                            Equity: U.S. - Large Cap      -5.80%   \n",
       "2                            Equity: U.S. - Large Cap      -5.81%   \n",
       "3                         Equity: U.S. - Total Market      -6.93%   \n",
       "4                            Equity: U.S. - Large Cap      -6.60%   \n",
       "..                                                ...         ...   \n",
       "30  Fixed Income: U.S. - Government, Treasury Inve...          --   \n",
       "31  Fixed Income: U.S. - Government, Treasury Inve...          --   \n",
       "32  Fixed Income: U.S. - Government, Treasury Inve...          --   \n",
       "33                      Equity: Global - Total Market          --   \n",
       "34              Asset Allocation: U.S. Target Outcome          --   \n",
       "\n",
       "   Expense Ratio       AUM  \n",
       "0          0.09%  $378.31B  \n",
       "1          0.03%  $310.21B  \n",
       "2          0.03%  $290.95B  \n",
       "3          0.03%  $285.27B  \n",
       "4          0.20%  $170.49B  \n",
       "..           ...       ...  \n",
       "30            --        --  \n",
       "31            --        --  \n",
       "32            --        --  \n",
       "33         0.95%        --  \n",
       "34         0.74%        --  \n",
       "\n",
       "[2370 rows x 6 columns]"
      ]
     },
     "execution_count": 51,
     "metadata": {},
     "output_type": "execute_result"
    }
   ],
   "source": [
    "for pag in range(1, num_pag + 1):\n",
    "    html_tab = elemento.get_attribute('outerHTML') # pega o html da tabela\n",
    "    \n",
    "    tabela = pd.read_html(html_tab)[0] # pega a tabela do html\n",
    "    \n",
    "    lista_tab_pag.append(tabela) # adiciona a tabela na lista\n",
    "    \n",
    "    botao_avancar = drive.find_element(\"xpath\", '//*[@id=\"panel:r0:0\"]/div/div[2]/div[2]/ul/li[9]/a[1]') # botao para avancar de pagina\n",
    "     \n",
    "    #drive.execute_script(\"arguments[0].click();\", botao_avancar) # clica no botao para avancar de pagina \n",
    "\n",
    "tabela_cad_etf = pd.concat(lista_tab_pag) # junta todas as tabelas da lista\n",
    "tabela_cad_etf"
   ]
  }
 ],
 "metadata": {
  "kernelspec": {
   "display_name": "venv",
   "language": "python",
   "name": "python3"
  },
  "language_info": {
   "codemirror_mode": {
    "name": "ipython",
    "version": 3
   },
   "file_extension": ".py",
   "mimetype": "text/x-python",
   "name": "python",
   "nbconvert_exporter": "python",
   "pygments_lexer": "ipython3",
   "version": "3.9.13"
  },
  "orig_nbformat": 4
 },
 "nbformat": 4,
 "nbformat_minor": 2
}
