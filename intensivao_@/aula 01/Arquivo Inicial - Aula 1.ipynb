{
 "cells": [
  {
   "cell_type": "markdown",
   "metadata": {},
   "source": [
    "# Automação de Sistemas e Processos com Python\n",
    "\n",
    "### Desafio:\n",
    "\n",
    "Todos os dias, o nosso sistema atualiza as vendas do dia anterior.\n",
    "O seu trabalho diário, como analista, é enviar um e-mail para a diretoria, assim que começar a trabalhar, com o faturamento e a quantidade de produtos vendidos no dia anterior\n",
    "\n",
    "E-mail da diretoria: seugmail+diretoria@gmail.com<br>\n",
    "Local onde o sistema disponibiliza as vendas do dia anterior: https://drive.google.com/drive/folders/149xknr9JvrlEnhNWO49zPcw0PW5icxga?usp=sharing\n",
    "\n",
    "Para resolver isso, vamos usar o pyautogui, uma biblioteca de automação de comandos do mouse e do teclado"
   ]
  },
  {
   "cell_type": "code",
   "execution_count": 1,
   "metadata": {},
   "outputs": [
    {
     "ename": "KeyboardInterrupt",
     "evalue": "",
     "output_type": "error",
     "traceback": [
      "\u001b[0;31m---------------------------------------------------------------------------\u001b[0m",
      "\u001b[0;31mKeyboardInterrupt\u001b[0m                         Traceback (most recent call last)",
      "\u001b[0;32m/tmp/ipykernel_13098/1465643745.py\u001b[0m in \u001b[0;36m<module>\u001b[0;34m\u001b[0m\n\u001b[1;32m     21\u001b[0m \u001b[0;31m#passo 2:navegar até o local do relatório(entrar na pasta exportar).\u001b[0m\u001b[0;34m\u001b[0m\u001b[0;34m\u001b[0m\u001b[0m\n\u001b[1;32m     22\u001b[0m \u001b[0mpa\u001b[0m\u001b[0;34m.\u001b[0m\u001b[0mclick\u001b[0m\u001b[0;34m(\u001b[0m\u001b[0mx\u001b[0m\u001b[0;34m=\u001b[0m\u001b[0;36m387\u001b[0m\u001b[0;34m,\u001b[0m \u001b[0my\u001b[0m\u001b[0;34m=\u001b[0m\u001b[0;36m316\u001b[0m\u001b[0;34m,\u001b[0m \u001b[0mclicks\u001b[0m\u001b[0;34m=\u001b[0m\u001b[0;36m2\u001b[0m\u001b[0;34m)\u001b[0m\u001b[0;34m\u001b[0m\u001b[0;34m\u001b[0m\u001b[0m\n\u001b[0;32m---> 23\u001b[0;31m \u001b[0mtime\u001b[0m\u001b[0;34m.\u001b[0m\u001b[0msleep\u001b[0m\u001b[0;34m(\u001b[0m\u001b[0;36m5\u001b[0m\u001b[0;34m)\u001b[0m\u001b[0;34m\u001b[0m\u001b[0;34m\u001b[0m\u001b[0m\n\u001b[0m\u001b[1;32m     24\u001b[0m \u001b[0;34m\u001b[0m\u001b[0m\n\u001b[1;32m     25\u001b[0m \u001b[0;31m#passo 3: exportar o relatório(fazer download).\u001b[0m\u001b[0;34m\u001b[0m\u001b[0;34m\u001b[0m\u001b[0m\n",
      "\u001b[0;31mKeyboardInterrupt\u001b[0m: "
     ]
    }
   ],
   "source": [
    "import pyautogui as pa\n",
    "import pyperclip\n",
    "import time\n",
    "\n",
    "#pyautogui.click -> clicar\n",
    "#pyautogui.write -> escrever\n",
    "#pyautogui.press -> pressionar\n",
    "#pyautogui.hotkey -> atalho\n",
    "\n",
    "pa.PAUSE = 1\n",
    "\n",
    "#passo 1: entrar no sistema da empresa(link do drive).\n",
    "pa.hotkey(\"ctrl\",\"t\")\n",
    "pyperclip.copy(\"https://drive.google.com/drive/folders/149xknr9JvrlEnhNWO49zPcw0PW5icxga\")\n",
    "pa.hotkey(\"ctrl\", \"v\")\n",
    "pa.press(\"enter\")\n",
    "\n",
    "time.sleep(5)\n",
    "\n",
    "\n",
    "#passo 2:navegar até o local do relatório(entrar na pasta exportar).\n",
    "pa.click(x=387, y=316, clicks=2)\n",
    "time.sleep(5)\n",
    "\n",
    "#passo 3: exportar o relatório(fazer download).\n",
    "pa.click(x=345, y=451)\n",
    "pa.click(x=1713, y=211)\n",
    "pa.click(x=1549, y=574)\n",
    "time.sleep(5)\n",
    "\n",
    "#passo 4: calcular indicadores(faturamento e quantidade de produtos).\n",
    "import pandas as pd\n",
    "\n",
    "tabela = pd.read_excel(r\"/home/saito/Documentos/cursos/python/intensivao_@/aula 01/Vendas - Dez.xlsx\")\n",
    "display(tabela)\n",
    "\n",
    "faturamento = tabela[\"Valor Final\"].sum()\n",
    "quantidade = tabela[\"Quantidade\"].sum()\n",
    "print(faturamento)\n",
    "print(quantidade)\n"
   ]
  },
  {
   "cell_type": "code",
   "execution_count": 2,
   "metadata": {
    "scrolled": false
   },
   "outputs": [
    {
     "name": "stderr",
     "output_type": "stream",
     "text": [
      "QXcbClipboard::setMimeData: Cannot set X11 selection owner\n",
      "QXcbClipboard::setMimeData: Cannot set X11 selection owner\n"
     ]
    },
    {
     "ename": "NameError",
     "evalue": "name 'faturamento' is not defined",
     "output_type": "error",
     "traceback": [
      "\u001b[0;31m---------------------------------------------------------------------------\u001b[0m",
      "\u001b[0;31mNameError\u001b[0m                                 Traceback (most recent call last)",
      "\u001b[0;32m/tmp/ipykernel_13098/1293014526.py\u001b[0m in \u001b[0;36m<module>\u001b[0;34m\u001b[0m\n\u001b[1;32m     29\u001b[0m \u001b[0mPrezados\u001b[0m\u001b[0;34m,\u001b[0m \u001b[0mbom\u001b[0m \u001b[0mdia\u001b[0m\u001b[0;31m!\u001b[0m\u001b[0;34m\u001b[0m\u001b[0;34m\u001b[0m\u001b[0m\n\u001b[1;32m     30\u001b[0m \u001b[0;34m\u001b[0m\u001b[0m\n\u001b[0;32m---> 31\u001b[0;31m \u001b[0mO\u001b[0m \u001b[0mfaturamento\u001b[0m \u001b[0mde\u001b[0m \u001b[0montem\u001b[0m \u001b[0mfoi\u001b[0m \u001b[0mde\u001b[0m\u001b[0;34m:\u001b[0m\u001b[0mR\u001b[0m\u001b[0;31m$\u001b[0m\u001b[0;34m{\u001b[0m\u001b[0mfaturamento\u001b[0m\u001b[0;34m:\u001b[0m\u001b[0;34m,\u001b[0m\u001b[0;36m.2\u001b[0m\u001b[0mf\u001b[0m\u001b[0;34m}\u001b[0m\u001b[0;34m\u001b[0m\u001b[0;34m\u001b[0m\u001b[0m\n\u001b[0m\u001b[1;32m     32\u001b[0m \u001b[0mA\u001b[0m \u001b[0mquantidade\u001b[0m \u001b[0mde\u001b[0m \u001b[0mprodutos\u001b[0m \u001b[0mfoi\u001b[0m \u001b[0mde\u001b[0m\u001b[0;34m:\u001b[0m \u001b[0;34m{\u001b[0m\u001b[0mquantidade\u001b[0m\u001b[0;34m}\u001b[0m\u001b[0;34m\u001b[0m\u001b[0;34m\u001b[0m\u001b[0m\n\u001b[1;32m     33\u001b[0m \u001b[0;34m\u001b[0m\u001b[0m\n",
      "\u001b[0;31mNameError\u001b[0m: name 'faturamento' is not defined"
     ]
    }
   ],
   "source": [
    "#passo 5: enviar um email para a diretoria\n",
    "\n",
    "\n",
    "#passo 5.1 abrir aba e entrar no email\n",
    "pa.hotkey(\"ctrl\", \"t\")\n",
    "pyperclip.copy(\"https://mail.google.com/mail/u/3/?pli=1#inbox\")\n",
    "pa.hotkey(\"ctrl\", \"v\")\n",
    "pa.press(\"enter\")\n",
    "\n",
    "time.sleep(5)\n",
    "\n",
    "#passo 5.2: clicar no botao escrever\n",
    "pa.click(x=75, y=215)\n",
    "\n",
    "\n",
    "#passo 5.3: preencher as informacoes do email\n",
    "    #passo 5.3.1: preencher destinatario\n",
    "pa.write(\"beatriz.s.gobira@gmail.com\")\n",
    "pa.press(\"tab\") #tab para selecionar o destinatario\n",
    "pa.press(\"tab\") #tab para ir para a sessao \"assunto\"\n",
    "\n",
    "    #passo 5.3.2: assunto\n",
    "pyperclip.copy(\"Relatório de vendas\")\n",
    "pa.hotkey(\"ctrl\", \"v\")\n",
    "pa.press(\"tab\")\n",
    "\n",
    "    #passo 5.3.3: corpo do e-mail\n",
    "texto= f\"\"\"\n",
    "Prezados, bom dia!\n",
    "\n",
    "O faturamento de ontem foi de:R${faturamento:,.2f}\n",
    "A quantidade de produtos foi de: {quantidade}\n",
    "\n",
    "ABS:\n",
    "bia.saito\n",
    "\"\"\"\n",
    "pyperclip.copy(texto)\n",
    "pa.hotkey(\"ctrl\", \"v\")\n",
    "\n",
    "#passo 5.4: enviar email\n",
    "pa.hotkey(\"ctrl\", \"enter\")\n"
   ]
  },
  {
   "cell_type": "markdown",
   "metadata": {},
   "source": [
    "### Vamos agora ler o arquivo baixado para pegar os indicadores\n",
    "\n",
    "- Faturamento\n",
    "- Quantidade de Produtos"
   ]
  },
  {
   "cell_type": "raw",
   "metadata": {},
   "source": []
  },
  {
   "cell_type": "markdown",
   "metadata": {},
   "source": []
  },
  {
   "cell_type": "markdown",
   "metadata": {},
   "source": []
  },
  {
   "cell_type": "code",
   "execution_count": null,
   "metadata": {},
   "outputs": [],
   "source": []
  },
  {
   "cell_type": "code",
   "execution_count": null,
   "metadata": {},
   "outputs": [],
   "source": []
  },
  {
   "cell_type": "markdown",
   "metadata": {},
   "source": [
    "### Vamos agora enviar um e-mail pelo gmail"
   ]
  },
  {
   "cell_type": "code",
   "execution_count": null,
   "metadata": {},
   "outputs": [],
   "source": []
  },
  {
   "cell_type": "code",
   "execution_count": null,
   "metadata": {},
   "outputs": [],
   "source": []
  },
  {
   "cell_type": "markdown",
   "metadata": {},
   "source": [
    "#### Use esse código para descobrir qual a posição de um item que queira clicar\n",
    "\n",
    "- Lembre-se: a posição na sua tela é diferente da posição na minha tela"
   ]
  },
  {
   "cell_type": "code",
   "execution_count": 15,
   "metadata": {
    "scrolled": false
   },
   "outputs": [
    {
     "name": "stdout",
     "output_type": "stream",
     "text": [
      "Point(x=859, y=555)\n"
     ]
    }
   ],
   "source": [
    "time.sleep(5)\n",
    "print(pa.position())\n"
   ]
  },
  {
   "cell_type": "code",
   "execution_count": null,
   "metadata": {},
   "outputs": [],
   "source": []
  },
  {
   "cell_type": "code",
   "execution_count": null,
   "metadata": {},
   "outputs": [],
   "source": []
  }
 ],
 "metadata": {
  "kernelspec": {
   "display_name": "Python 3 (ipykernel)",
   "language": "python",
   "name": "python3"
  },
  "language_info": {
   "codemirror_mode": {
    "name": "ipython",
    "version": 3
   },
   "file_extension": ".py",
   "mimetype": "text/x-python",
   "name": "python",
   "nbconvert_exporter": "python",
   "pygments_lexer": "ipython3",
   "version": "3.9.13"
  }
 },
 "nbformat": 4,
 "nbformat_minor": 4
}
