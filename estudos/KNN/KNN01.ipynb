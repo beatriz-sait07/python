{
 "cells": [
  {
   "cell_type": "code",
   "execution_count": 1,
   "metadata": {},
   "outputs": [],
   "source": [
    "import numpy as pd \n",
    "import os\n",
    "from PIL import Image"
   ]
  },
  {
   "cell_type": "code",
   "execution_count": 11,
   "metadata": {},
   "outputs": [],
   "source": [
    "caminho = \"American Sign Language Digits Dataset/0/Input Images - Sign 0\" "
   ]
  },
  {
   "cell_type": "code",
   "execution_count": 13,
   "metadata": {},
   "outputs": [],
   "source": [
    "arquivos_e_pastas = os.listdir(caminho) #listando tudo que tem na pasta. (isso retornara apenas o nome)"
   ]
  },
  {
   "cell_type": "code",
   "execution_count": 15,
   "metadata": {},
   "outputs": [],
   "source": [
    "for elementos in arquivos_e_pastas:\n",
    "    if(os.path.isfile(caminho + elementos)): #verificando se eh um arquivo (por isso aqui temos que colocar `caminho + elemento` ** pq la encima retornou apenas o nome do elemento e nao todo o conteudo)\n",
    "        if(elementos[-5:] == '.jpeg'):\n",
    "            print(caminho + elementos)"
   ]
  }
 ],
 "metadata": {
  "kernelspec": {
   "display_name": "base",
   "language": "python",
   "name": "python3"
  },
  "language_info": {
   "codemirror_mode": {
    "name": "ipython",
    "version": 3
   },
   "file_extension": ".py",
   "mimetype": "text/x-python",
   "name": "python",
   "nbconvert_exporter": "python",
   "pygments_lexer": "ipython3",
   "version": "3.9.13"
  }
 },
 "nbformat": 4,
 "nbformat_minor": 2
}
