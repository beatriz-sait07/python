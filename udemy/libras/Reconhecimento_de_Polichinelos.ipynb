{
  "nbformat": 4,
  "nbformat_minor": 0,
  "metadata": {
    "colab": {
      "provenance": []
    },
    "kernelspec": {
      "name": "python3",
      "display_name": "Python 3"
    },
    "language_info": {
      "name": "python"
    }
  },
  "cells": [
    {
      "cell_type": "code",
      "execution_count": 49,
      "metadata": {
        "colab": {
          "base_uri": "https://localhost:8080/",
          "height": 36
        },
        "id": "enmNLeso8RSk",
        "outputId": "9a015ce1-9738-444a-fa9d-ab6b893c0f79"
      },
      "outputs": [
        {
          "output_type": "execute_result",
          "data": {
            "text/plain": [
              "'4.11.0'"
            ],
            "application/vnd.google.colaboratory.intrinsic+json": {
              "type": "string"
            }
          },
          "metadata": {},
          "execution_count": 49
        }
      ],
      "source": [
        "import time\n",
        "import sys\n",
        "import cv2\n",
        "import matplotlib.pyplot as plt\n",
        "from google.colab.patches import cv2_imshow\n",
        "import zipfile\n",
        "import numpy as np\n",
        "\n",
        "cv2.__version__"
      ]
    },
    {
      "cell_type": "code",
      "source": [
        "from google.colab import drive\n",
        "drive.mount('/content/drive')"
      ],
      "metadata": {
        "colab": {
          "base_uri": "https://localhost:8080/"
        },
        "id": "Fk58OFscAEQB",
        "outputId": "636ac1f4-8bd0-49cf-f0a5-7c081ff69611"
      },
      "execution_count": 50,
      "outputs": [
        {
          "output_type": "stream",
          "name": "stdout",
          "text": [
            "Drive already mounted at /content/drive; to attempt to forcibly remount, call drive.mount(\"/content/drive\", force_remount=True).\n"
          ]
        }
      ]
    },
    {
      "cell_type": "markdown",
      "source": [
        "descompacta tudo"
      ],
      "metadata": {
        "id": "KgSz3UG0D94j"
      }
    },
    {
      "cell_type": "code",
      "source": [
        "caminhoPose = '/content/drive/MyDrive/projetinhos/libras/pose.zip'\n",
        "objZipado = zipfile.ZipFile(file = caminhoPose, mode='r')\n",
        "objZipado.extractall('./')"
      ],
      "metadata": {
        "id": "gQFsMj5HD85c"
      },
      "execution_count": 51,
      "outputs": []
    },
    {
      "cell_type": "code",
      "source": [
        "caminhoImg = '/content/drive/MyDrive/projetinhos/libras/imagens.zip'\n",
        "objZipado = zipfile.ZipFile(file = caminhoImg, mode='r')\n",
        "objZipado.extractall('./')"
      ],
      "metadata": {
        "id": "Hk-j_inYGq8J"
      },
      "execution_count": 52,
      "outputs": []
    },
    {
      "cell_type": "code",
      "source": [
        "caminhoMod = '/content/drive/MyDrive/projetinhos/libras/modulos.zip'\n",
        "objZipado = zipfile.ZipFile(file = caminhoMod, mode='r')\n",
        "objZipado.extractall('./')"
      ],
      "metadata": {
        "id": "AMNYEbdgGsWd"
      },
      "execution_count": 53,
      "outputs": []
    },
    {
      "cell_type": "markdown",
      "source": [
        "fazer \"criacao de lib\" os codigo abaixo foi feito pelo tiether para verificar movimentos. e para fazer isso, conect som o sitema e faco a \"importacao\""
      ],
      "metadata": {
        "id": "-Xe0_VHzHFJr"
      }
    },
    {
      "cell_type": "code",
      "source": [
        "sys.path.append('/content/modulos')#transforma em variaavel de ambiente\n",
        "sys.path"
      ],
      "metadata": {
        "colab": {
          "base_uri": "https://localhost:8080/"
        },
        "id": "Fvo6exdMHCey",
        "outputId": "5e3d3a3a-4889-4359-b96d-6b2f6ab7c39d"
      },
      "execution_count": 54,
      "outputs": [
        {
          "output_type": "execute_result",
          "data": {
            "text/plain": [
              "['/content',\n",
              " '/env/python',\n",
              " '/usr/lib/python311.zip',\n",
              " '/usr/lib/python3.11',\n",
              " '/usr/lib/python3.11/lib-dynload',\n",
              " '',\n",
              " '/usr/local/lib/python3.11/dist-packages',\n",
              " '/usr/lib/python3/dist-packages',\n",
              " '/usr/local/lib/python3.11/dist-packages/IPython/extensions',\n",
              " '/root/.ipython',\n",
              " '/content/modulos',\n",
              " '/content/modulos',\n",
              " '/content/modulos',\n",
              " '/content/modulos',\n",
              " '/content/modulos']"
            ]
          },
          "metadata": {},
          "execution_count": 54
        }
      ]
    },
    {
      "cell_type": "code",
      "source": [
        "import extrator_CORPO"
      ],
      "metadata": {
        "id": "7tDKmRcoIEEK"
      },
      "execution_count": 55,
      "outputs": []
    },
    {
      "cell_type": "code",
      "source": [
        "arqProto = '/content/pose/body/mpi/pose_deploy_linevec_faster_4_stages.prototxt'\n",
        "arqPesos = '/content/pose/body/mpi/pose_iter_160000.caffemodel'"
      ],
      "metadata": {
        "id": "JmBLbKWwIH8W"
      },
      "execution_count": 56,
      "outputs": []
    },
    {
      "cell_type": "code",
      "source": [
        "numPontos = 15\n",
        "paresPontos = [[0, 1], [1, 2], [2, 3], [3, 4], [1, 5], [5, 6], [6, 7], [1, 14],\n",
        "                [14, 8], [8, 9], [9, 10], [14, 11], [11, 12], [12, 13]]"
      ],
      "metadata": {
        "id": "cYDZfSxTJAbl"
      },
      "execution_count": 57,
      "outputs": []
    },
    {
      "cell_type": "code",
      "source": [
        "corPontoA, corPontoB, corLinha = (128,85,255), (128,255,255), (128,255,119)\n",
        "corTxtPonto, corTxtInicioMovim, corTxtFzdMovim = (0,0,0), (234,169,255), (234,255,127)\n",
        "\n",
        "tamFont, tamLinha, tamCircle, espessuma = 0.8, 2, 8, 5\n",
        "fonte = cv2.FONT_HERSHEY_SIMPLEX"
      ],
      "metadata": {
        "id": "UiVU5Od8Jdzs"
      },
      "execution_count": 58,
      "outputs": []
    },
    {
      "cell_type": "code",
      "source": [
        "entradaW, entradaH = 256, 256"
      ],
      "metadata": {
        "id": "2O83RdqvLSSr"
      },
      "execution_count": 59,
      "outputs": []
    },
    {
      "cell_type": "code",
      "source": [
        "validPernaJunta, validPernaLonge = 0,0\n",
        "validBracoJunta, validBracoLonge = 0,0"
      ],
      "metadata": {
        "id": "-XrqCK_IMZ1o"
      },
      "execution_count": 60,
      "outputs": []
    },
    {
      "cell_type": "code",
      "source": [
        "video = '/content/imagens/body/videos/original_3.mp4'\n",
        "captura = cv2.VideoCapture(video)\n",
        "conectado, frame = captura.read() #1 parametro:verifica se o video foi devidamete vinvulado, 2 parametro:captura cada frame do video, daria para fazer o tradutor partindo de video ao vivo (tipo discurso eleitoral)"
      ],
      "metadata": {
        "id": "KvXuAa-jPBKd"
      },
      "execution_count": 61,
      "outputs": []
    },
    {
      "cell_type": "code",
      "source": [
        "result = './polichinelo.avi'\n",
        "gravarVideo = cv2.VideoWriter(result, cv2.VideoWriter_fourcc(*'XVID'), 10, (frame.shape[1], frame.shape[0]))"
      ],
      "metadata": {
        "id": "TCohbtK1Saaa"
      },
      "execution_count": 62,
      "outputs": []
    },
    {
      "cell_type": "code",
      "source": [
        "modeloTreinamento = cv2.dnn.readNetFromCaffe(arqProto, arqPesos)"
      ],
      "metadata": {
        "id": "E2frOPFmTGzE"
      },
      "execution_count": 63,
      "outputs": []
    },
    {
      "cell_type": "code",
      "source": [
        "limite = 0.1\n",
        "\n",
        "#tem que processar enquanto houver video\n",
        "while(cv2.waitKey(1)<0):\n",
        "  tempo = time.time()\n",
        "  conectado, frame = captura.read()\n",
        "  videoCopia = np.copy(video)\n",
        "\n",
        "  if not conectado:\n",
        "    cv2.waitKey()\n",
        "    break\n",
        "\n",
        "  videoW = video.shape[1]\n",
        "  videoH = video.shape[0]\n",
        "\n",
        "  #fazendo mascara\n",
        "  mapaSuave = cv2.resize(frame, (entradaW, entradaH))\n",
        "  mapaSuave = cv2.cvtColor(mapaSuave, cv2.COLOR_BGR2GRAY)\n",
        "  fundo = np.uint8(mapaSuave > limite)\n",
        "\n",
        "  #conversao do tipo da img\n",
        "  blobEntrada = cv2.dnn.blobFromImage(video, 1.0 / 255,\n",
        "                                      (entradaW, entradaH),\n",
        "                                      (0, 0, 0), swapRB=True, crop=False)\n",
        "  modelo.setInput(blobEntrada)\n",
        "  saida = modelo.forward()\n",
        "\n",
        "  altura, largura,pontos  = saida.shape[2], saida.shape[3], []"
      ],
      "metadata": {
        "id": "VqW_POIlTQEN"
      },
      "execution_count": 66,
      "outputs": []
    }
  ]
}